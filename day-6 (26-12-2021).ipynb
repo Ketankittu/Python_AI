{
 "cells": [
  {
   "cell_type": "markdown",
   "id": "06bbc5d0",
   "metadata": {},
   "source": [
    "# logical operators\n",
    " - #and\n",
    " - #or\n",
    " - #not\n",
    " "
   ]
  },
  {
   "cell_type": "code",
   "execution_count": 2,
   "id": "f227cbc9",
   "metadata": {},
   "outputs": [
    {
     "name": "stdout",
     "output_type": "stream",
     "text": [
      "False\n",
      "True\n",
      "True\n"
     ]
    }
   ],
   "source": [
    "x=3\n",
    "print(x>5 and x<9)\n",
    "print(x>5 or x<9)\n",
    "print(not(x>5 and x<9))"
   ]
  },
  {
   "cell_type": "markdown",
   "id": "7ae0734d",
   "metadata": {},
   "source": [
    "# Identity Operators\n",
    "- used to compare objects\n",
    "- operators\n",
    "     - is \n",
    "     - is not"
   ]
  },
  {
   "cell_type": "code",
   "execution_count": 3,
   "id": "8375499f",
   "metadata": {},
   "outputs": [
    {
     "name": "stdout",
     "output_type": "stream",
     "text": [
      "True\n",
      "False\n",
      "True\n"
     ]
    }
   ],
   "source": [
    "a=3\n",
    "b=3\n",
    "c=8\n",
    "print(a is b)\n",
    "print(a is c)\n",
    "print(a is b is not c)"
   ]
  },
  {
   "cell_type": "markdown",
   "id": "a83cc922",
   "metadata": {},
   "source": [
    "# Membership Operators\n",
    "- used to test the given sequence in the object\n",
    "- operators \n",
    "   - in \n",
    "   - not in"
   ]
  },
  {
   "cell_type": "code",
   "execution_count": 4,
   "id": "382ddb09",
   "metadata": {},
   "outputs": [
    {
     "name": "stdout",
     "output_type": "stream",
     "text": [
      "False\n",
      "True\n",
      "True\n"
     ]
    }
   ],
   "source": [
    "s=\"Python\"\n",
    "print(\"p\"in s)\n",
    "print(\"th\" in s)\n",
    "print(\"pt\" not in s)"
   ]
  },
  {
   "cell_type": "markdown",
   "id": "df41c7b0",
   "metadata": {},
   "source": [
    "# Control Flow Statements \n",
    "- conditional statements\n",
    "  - if-else statement\n",
    "- looping statements\n",
    "  - while loop\n",
    "  - for loop"
   ]
  },
  {
   "cell_type": "markdown",
   "id": "d7b999c9",
   "metadata": {},
   "source": [
    "# if-else statement"
   ]
  },
  {
   "cell_type": "code",
   "execution_count": 5,
   "id": "b6a643fd",
   "metadata": {},
   "outputs": [
    {
     "name": "stdout",
     "output_type": "stream",
     "text": [
      "enter a number=6\n",
      "the number is even\n"
     ]
    }
   ],
   "source": [
    "# check if the given no is even or odd\n",
    "n=int(input(\"enter a number=\"))\n",
    "if n%2==0:\n",
    "    print(\"the number is even\")\n",
    "else:\n",
    "    print(\"yhe number is odd\")"
   ]
  },
  {
   "cell_type": "code",
   "execution_count": 6,
   "id": "382cc9f6",
   "metadata": {},
   "outputs": [
    {
     "name": "stdout",
     "output_type": "stream",
     "text": [
      "enter the number15\n",
      "multiple of 3 & 5\n"
     ]
    }
   ],
   "source": [
    "# check give number is multiple of both 3 and 5\n",
    "n=int(input(\"enter the number\"))\n",
    "if n%3==0 and n%5==0:\n",
    "    print(\"multiple of 3 & 5\")\n",
    "else:\n",
    "    print(\"it is not\")"
   ]
  },
  {
   "cell_type": "code",
   "execution_count": 9,
   "id": "86fc163f",
   "metadata": {},
   "outputs": [
    {
     "name": "stdout",
     "output_type": "stream",
     "text": [
      "enter a number-3\n",
      "negetive number\n"
     ]
    }
   ],
   "source": [
    "# check the given number is positive ,negetive or zero\n",
    "n=int(input(\"enter a number\"))\n",
    "if n>0:\n",
    "    print(\"positive number\")\n",
    "elif n<0:\n",
    "    print(\"negetive number\")\n",
    "else:\n",
    "    print(\"the number is zero\")"
   ]
  },
  {
   "cell_type": "code",
   "execution_count": 11,
   "id": "22032fe3",
   "metadata": {},
   "outputs": [
    {
     "name": "stdout",
     "output_type": "stream",
     "text": [
      "enter the first no5\n",
      "enter the second no6\n",
      "enter the third no7\n",
      "third no is the largest\n"
     ]
    }
   ],
   "source": [
    "#find large number from 3 inputs \n",
    "n=int(input(\"enter the first no\"))\n",
    "m=int(input(\"enter the second no\"))\n",
    "o=int(input(\"enter the third no\"))\n",
    "if n>m and n>o:\n",
    "    print(\"the first no is largest among them\")\n",
    "elif m>o:\n",
    "    print(\"second no is the largest\")\n",
    "else:\n",
    "    print(\"third no is the largest\")"
   ]
  },
  {
   "cell_type": "code",
   "execution_count": 3,
   "id": "24c3677c",
   "metadata": {},
   "outputs": [
    {
     "name": "stdout",
     "output_type": "stream",
     "text": [
      "enter the marks21\n",
      "F\n"
     ]
    }
   ],
   "source": [
    "# find the grading \n",
    "#below 25 -- f\n",
    "#25 to 45 --e\n",
    "#45 to 50 -- d\n",
    "#50 to 60 -- c\\\n",
    "#60 to 80 -- b\n",
    "#above 80 -- a\n",
    "n=int(input(\"enter the marks\"))\n",
    "if n<25:\n",
    "    print(\"F\")\n",
    "elif n>25 and n<45:\n",
    "    print(\"E\")\n",
    "elif n>45 and n<50:\n",
    "    print(\"D\")\n",
    "elif n>50 and n<60:\n",
    "    print(\"C\")\n",
    "elif n>60 and n<80:\n",
    "    print(\"B\")\n",
    "else:\n",
    "    print(\"A\")"
   ]
  },
  {
   "cell_type": "markdown",
   "id": "9c386cb2",
   "metadata": {},
   "source": [
    "# While loop\n",
    "- it helps us to run a statement for a number of times"
   ]
  },
  {
   "cell_type": "code",
   "execution_count": 6,
   "id": "4bd5a6c6",
   "metadata": {},
   "outputs": [
    {
     "name": "stdout",
     "output_type": "stream",
     "text": [
      "python\n",
      "python\n",
      "python\n",
      "python\n",
      "python\n"
     ]
    }
   ],
   "source": [
    "# print \"python\" 5 times\n",
    "s=1\n",
    "while s<=5:\n",
    "    print(\"python\")\n",
    "    s=s+1"
   ]
  },
  {
   "cell_type": "code",
   "execution_count": 7,
   "id": "8adc2b3f",
   "metadata": {},
   "outputs": [
    {
     "name": "stdout",
     "output_type": "stream",
     "text": [
      "1 2 3 4 5 6 7 8 9 10 "
     ]
    }
   ],
   "source": [
    "# print from 1 to 10\n",
    "i=1 \n",
    "while i<=10:\n",
    "    print(i,end=\" \")\n",
    "    i=i+1"
   ]
  },
  {
   "cell_type": "code",
   "execution_count": 9,
   "id": "47aea970",
   "metadata": {},
   "outputs": [
    {
     "name": "stdout",
     "output_type": "stream",
     "text": [
      "2 4 6 8 10 "
     ]
    }
   ],
   "source": [
    "# print 1 to 10 number only print even numbers\n",
    "i=1\n",
    "while i<=10:\n",
    "    if i%2==0:\n",
    "        print(i,end=\" \")\n",
    "    i=i+1"
   ]
  },
  {
   "cell_type": "code",
   "execution_count": 1,
   "id": "ae1a7a46",
   "metadata": {},
   "outputs": [
    {
     "name": "stdout",
     "output_type": "stream",
     "text": [
      "enter a number6\n",
      "1\n",
      "2\n",
      "3\n",
      "6\n"
     ]
    }
   ],
   "source": [
    "# print the factors of a given number\n",
    "n=int(input(\"enter a number\"))\n",
    "i=1\n",
    "while i<=n:\n",
    "    if n%i==0:\n",
    "        print(i)\n",
    "    i=i+1"
   ]
  },
  {
   "cell_type": "code",
   "execution_count": null,
   "id": "753fe10b",
   "metadata": {},
   "outputs": [],
   "source": []
  }
 ],
 "metadata": {
  "kernelspec": {
   "display_name": "Python 3 (ipykernel)",
   "language": "python",
   "name": "python3"
  },
  "language_info": {
   "codemirror_mode": {
    "name": "ipython",
    "version": 3
   },
   "file_extension": ".py",
   "mimetype": "text/x-python",
   "name": "python",
   "nbconvert_exporter": "python",
   "pygments_lexer": "ipython3",
   "version": "3.9.7"
  }
 },
 "nbformat": 4,
 "nbformat_minor": 5
}
